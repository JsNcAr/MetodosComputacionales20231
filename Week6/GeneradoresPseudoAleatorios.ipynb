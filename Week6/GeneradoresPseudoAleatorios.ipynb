{
 "cells": [
  {
   "cell_type": "code",
   "execution_count": 2,
   "id": "9f23ee58",
   "metadata": {},
   "outputs": [],
   "source": [
    "import numpy as np\n",
    "import matplotlib.pyplot as plt\n",
    "from matplotlib import rc"
   ]
  },
  {
   "cell_type": "code",
   "execution_count": 4,
   "id": "f543a600",
   "metadata": {},
   "outputs": [
    {
     "ename": "NameError",
     "evalue": "name 'method' is not defined",
     "output_type": "error",
     "traceback": [
      "\u001b[0;31m---------------------------------------------------------------------------\u001b[0m",
      "\u001b[0;31mNameError\u001b[0m                                 Traceback (most recent call last)",
      "Cell \u001b[0;32mIn[4], line 1\u001b[0m\n\u001b[0;32m----> 1\u001b[0m \u001b[39mclass\u001b[39;00m \u001b[39mGenerador\u001b[39;00m():\n\u001b[1;32m      2\u001b[0m     \u001b[39mdef\u001b[39;00m \u001b[39m__init__\u001b[39m(\u001b[39mself\u001b[39m, semilla\u001b[39m=\u001b[39m\u001b[39m15\u001b[39m, method\u001b[39m=\u001b[39m\u001b[39m'\u001b[39m\u001b[39msimple\u001b[39m\u001b[39m'\u001b[39m):\n\u001b[1;32m      3\u001b[0m         \u001b[39mself\u001b[39m\u001b[39m.\u001b[39mr \u001b[39m=\u001b[39m semilla\n",
      "Cell \u001b[0;32mIn[4], line 5\u001b[0m, in \u001b[0;36mGenerador\u001b[0;34m()\u001b[0m\n\u001b[1;32m      3\u001b[0m     \u001b[39mself\u001b[39m\u001b[39m.\u001b[39mr \u001b[39m=\u001b[39m semilla\n\u001b[1;32m      4\u001b[0m     \u001b[39mself\u001b[39m\u001b[39m.\u001b[39mmethod \u001b[39m=\u001b[39m method\n\u001b[0;32m----> 5\u001b[0m \u001b[39mif\u001b[39;00m method \u001b[39m==\u001b[39m \u001b[39m'\u001b[39m\u001b[39msimple\u001b[39m\u001b[39m'\u001b[39m:\n\u001b[1;32m      6\u001b[0m     \u001b[39mself\u001b[39m\u001b[39m.\u001b[39ma \u001b[39m=\u001b[39m \u001b[39m75\u001b[39m\n\u001b[1;32m      7\u001b[0m     \u001b[39mself\u001b[39m\u001b[39m.\u001b[39mm \u001b[39m=\u001b[39m \u001b[39m150\u001b[39m\n",
      "\u001b[0;31mNameError\u001b[0m: name 'method' is not defined"
     ]
    }
   ],
   "source": [
    "class Generador():\n",
    "    def __init__(self, semilla=15, method='simple'):\n",
    "        self.r = semilla\n",
    "        self.method = method\n",
    "    \n",
    "        if method == 'simple':\n",
    "            self.a = 75\n",
    "            self.m = 150\n",
    "            self.c = 3\n",
    "        elif method == 'drand48':\n",
    "            self.a = int('5DEECE66D',16)\n",
    "            self.c = int('B',16)\n",
    "            self.M = 2**48\n",
    "        else:\n",
    "            print('Método no válido')\n",
    "\n",
    "    def Random(self):\n",
    "        r = (self.a*self.r + self.c) % self.m\n",
    "        self.r = r\n",
    "        return r/float(self.m)"
   ]
  },
  {
   "cell_type": "code",
   "execution_count": null,
   "id": "064bfad5",
   "metadata": {},
   "outputs": [
    {
     "ename": "NameError",
     "evalue": "name 'Generador' is not defined",
     "output_type": "error",
     "traceback": [
      "\u001b[0;31m---------------------------------------------------------------------------\u001b[0m",
      "\u001b[0;31mNameError\u001b[0m                                 Traceback (most recent call last)",
      "Cell \u001b[0;32mIn[1], line 1\u001b[0m\n\u001b[0;32m----> 1\u001b[0m rand \u001b[39m=\u001b[39m Generador(seed\u001b[39m=\u001b[39m\u001b[39m2\u001b[39m, method\u001b[39m=\u001b[39m\u001b[39m'\u001b[39m\u001b[39msimple\u001b[39m\u001b[39m'\u001b[39m)\n",
      "\u001b[0;31mNameError\u001b[0m: name 'Generador' is not defined"
     ]
    }
   ],
   "source": [
    "rand = Generador(seed=2, method='simple')"
   ]
  },
  {
   "cell_type": "code",
   "execution_count": null,
   "id": "bb94ad69",
   "metadata": {},
   "outputs": [],
   "source": []
  }
 ],
 "metadata": {
  "kernelspec": {
   "display_name": "Python 3 (ipykernel)",
   "language": "python",
   "name": "python3"
  },
  "language_info": {
   "codemirror_mode": {
    "name": "ipython",
    "version": 3
   },
   "file_extension": ".py",
   "mimetype": "text/x-python",
   "name": "python",
   "nbconvert_exporter": "python",
   "pygments_lexer": "ipython3",
   "version": "3.10.4"
  }
 },
 "nbformat": 4,
 "nbformat_minor": 5
}
